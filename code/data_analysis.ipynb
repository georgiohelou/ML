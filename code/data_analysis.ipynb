{
  "nbformat": 4,
  "nbformat_minor": 0,
  "metadata": {
    "colab": {
      "name": "data_analysis.ipynb",
      "provenance": [],
      "collapsed_sections": []
    },
    "kernelspec": {
      "name": "python3",
      "display_name": "Python 3"
    },
    "language_info": {
      "name": "python"
    }
  },
  "cells": [
    {
      "cell_type": "code",
      "metadata": {
        "id": "WcuE98biIMfa"
      },
      "source": [
        "import numpy as np\n",
        "import csv\n",
        "import pickle\n",
        "import math"
      ],
      "execution_count": 1,
      "outputs": []
    },
    {
      "cell_type": "markdown",
      "metadata": {
        "id": "wJxzu_09GCjg"
      },
      "source": [
        "Init dico keys = authors , values = associated papers"
      ]
    },
    {
      "cell_type": "code",
      "metadata": {
        "colab": {
          "base_uri": "https://localhost:8080/"
        },
        "id": "6whHJkN_BGCS",
        "outputId": "48c1e4b6-0b9f-460a-e3e5-7c3f1785de92"
      },
      "source": [
        "from google.colab import drive\n",
        "drive.mount('/content/gdrive')\n",
        "DicoCleaned = {}\n",
        "infile = open('/content/gdrive/My Drive/pickle_files/authors_with_all_abstracts_separated_cleaned.pkl', 'rb')"
      ],
      "execution_count": 2,
      "outputs": [
        {
          "output_type": "stream",
          "name": "stdout",
          "text": [
            "Mounted at /content/gdrive\n"
          ]
        }
      ]
    },
    {
      "cell_type": "code",
      "metadata": {
        "colab": {
          "base_uri": "https://localhost:8080/"
        },
        "id": "rjZPmRLbMpMj",
        "outputId": "3ffd9123-5b9f-477a-c2d3-fa66818ffaab"
      },
      "source": [
        "DicoCleaned = pickle.load(infile)\n",
        "infile.close()\n",
        "print(len(DicoCleaned))"
      ],
      "execution_count": 3,
      "outputs": [
        {
          "output_type": "stream",
          "name": "stdout",
          "text": [
            "217801\n"
          ]
        }
      ]
    },
    {
      "cell_type": "markdown",
      "metadata": {
        "id": "QpjXSlNOGIiO"
      },
      "source": [
        "Read csv file with authorsID and their associated H index"
      ]
    },
    {
      "cell_type": "code",
      "metadata": {
        "id": "mZaNtNaoF09P"
      },
      "source": [
        "authors_index_list = []\n",
        "with open(\"train.csv\", 'r') as file:\n",
        "    csvreader = csv.reader(file)\n",
        "    header = next(csvreader)\n",
        "    for row in csvreader:\n",
        "        authors_index_list.append(row)\n",
        "authors_index_list = np.array(authors_index_list)"
      ],
      "execution_count": 4,
      "outputs": []
    },
    {
      "cell_type": "code",
      "metadata": {
        "colab": {
          "base_uri": "https://localhost:8080/"
        },
        "id": "zz_HHVhWLZ_d",
        "outputId": "ccead760-8b40-49ae-cf53-c48f50c052b3"
      },
      "source": [
        "print(authors_index_list.shape)"
      ],
      "execution_count": 5,
      "outputs": [
        {
          "output_type": "stream",
          "name": "stdout",
          "text": [
            "(174241, 2)\n"
          ]
        }
      ]
    },
    {
      "cell_type": "markdown",
      "metadata": {
        "id": "_KamM9htLaN0"
      },
      "source": [
        "Get the top 10% of the authors (h-index wise)"
      ]
    },
    {
      "cell_type": "code",
      "metadata": {
        "id": "7s24ezuPLZ6N"
      },
      "source": [
        "ten_percent = math.floor(authors_index_list.shape[0]/10)\n",
        "h_indices = authors_index_list[:,1].astype(np.float).astype(int)\n",
        "top_ind = np.argpartition(h_indices, -ten_percent)[-ten_percent:]"
      ],
      "execution_count": 14,
      "outputs": []
    },
    {
      "cell_type": "markdown",
      "metadata": {
        "id": "xtu166UkPNh1"
      },
      "source": [
        "Get the respective author IDs"
      ]
    },
    {
      "cell_type": "code",
      "metadata": {
        "id": "AI9PuXtGLY9V"
      },
      "source": [
        "top_authors_index = authors_index_list[top_ind]"
      ],
      "execution_count": 15,
      "outputs": []
    },
    {
      "cell_type": "markdown",
      "metadata": {
        "id": "94WSbw6kiV3K"
      },
      "source": [
        "Just for information get min & max h-index of the top 10% authors"
      ]
    },
    {
      "cell_type": "code",
      "metadata": {
        "colab": {
          "base_uri": "https://localhost:8080/"
        },
        "id": "h88L-GtpinZl",
        "outputId": "5f6122ae-510a-40b3-f9ac-ca6d7f7d1a5c"
      },
      "source": [
        "top_hindices= top_authors_index[:,1].astype(np.float)\n",
        "maxh = np.amax(top_hindices)\n",
        "minh = np.amin(top_hindices)\n",
        "print(f'h-index max :  {maxh} , min :  {minh}')"
      ],
      "execution_count": 16,
      "outputs": [
        {
          "output_type": "stream",
          "name": "stdout",
          "text": [
            "h-index max :  187.0 , min :  24.0\n"
          ]
        }
      ]
    },
    {
      "cell_type": "markdown",
      "metadata": {
        "id": "XT72C25kk_rY"
      },
      "source": [
        "It might be better to find a threshold than the top 10%\n"
      ]
    },
    {
      "cell_type": "code",
      "metadata": {
        "colab": {
          "base_uri": "https://localhost:8080/",
          "height": 295
        },
        "id": "jcv3YPe0lQj2",
        "outputId": "889c36f6-beec-4531-ad70-e4c4828053bc"
      },
      "source": [
        "import matplotlib.pyplot as plt\n",
        "h_indices_INT = h_indices.astype(np.float).astype(int)\n",
        "y = np.bincount(h_indices_INT)\n",
        "plt.title(\"h-index frequency graph\")\n",
        "plt.xlabel(\"H-index\")\n",
        "plt.ylabel(\"frequency\")\n",
        "plt.plot(y[1:], color =\"red\")\n",
        "plt.show()"
      ],
      "execution_count": 17,
      "outputs": [
        {
          "output_type": "display_data",
          "data": {
            "image/png": "[encoded data removed]",
            "text/plain": [
              "<Figure size 432x288 with 1 Axes>"
            ]
          },
          "metadata": {
            "needs_background": "light"
          }
        }
      ]
    },
    {
      "cell_type": "code",
      "metadata": {
        "colab": {
          "base_uri": "https://localhost:8080/",
          "height": 295
        },
        "id": "sEsBnTBKr0_-",
        "outputId": "ae049ffa-5dee-46f2-afaf-17555117d674"
      },
      "source": [
        "plt.title(\"h-index>25 frequency graph\")\n",
        "plt.xlabel(\"H-index\")\n",
        "plt.ylabel(\"frequency\")\n",
        "plt.plot( np.arange(25, y.shape[0]), y[25:], color =\"blue\")\n",
        "plt.show()"
      ],
      "execution_count": 18,
      "outputs": [
        {
          "output_type": "display_data",
          "data": {
            "image/png": "[encoded data removed]",
            "text/plain": [
              "<Figure size 432x288 with 1 Axes>"
            ]
          },
          "metadata": {
            "needs_background": "light"
          }
        }
      ]
    },
    {
      "cell_type": "markdown",
      "metadata": {
        "id": "o8OD69yE0NN2"
      },
      "source": [
        "TODO : test with threshold higher than 25 instead"
      ]
    },
    {
      "cell_type": "markdown",
      "metadata": {
        "id": "DZ3gfepz0Dwe"
      },
      "source": [
        "Get the worst 10 % of authors"
      ]
    },
    {
      "cell_type": "code",
      "metadata": {
        "colab": {
          "base_uri": "https://localhost:8080/"
        },
        "id": "J4sJrr9S0DTs",
        "outputId": "3fe4a924-b8d9-4b50-f6ed-8860744a957d"
      },
      "source": [
        "worst_ind = np.argpartition(h_indices, ten_percent)[:ten_percent]\n",
        "worst_authors_index = authors_index_list[worst_ind]\n",
        "worst_indices= worst_authors_index[:,1].astype(np.float)\n",
        "maxh = np.amax(worst_indices)\n",
        "minh = np.amin(worst_indices)\n",
        "print(f'h-index max :  {maxh} , min :  {minh}')"
      ],
      "execution_count": 19,
      "outputs": [
        {
          "output_type": "stream",
          "name": "stdout",
          "text": [
            "h-index max :  1.0 , min :  1.0\n"
          ]
        }
      ]
    },
    {
      "cell_type": "markdown",
      "metadata": {
        "id": "PiCMCkxglJsI"
      },
      "source": [
        "WORK WITH TOP 10% AUTHORS HERE (later with threshold)"
      ]
    },
    {
      "cell_type": "markdown",
      "metadata": {
        "id": "iCOPZPIUPzxZ"
      },
      "source": [
        "Get the abstracts of top 10 from dico"
      ]
    },
    {
      "cell_type": "code",
      "metadata": {
        "id": "MMXbs38pPgOT"
      },
      "source": [
        "dico_top10 = {}\n",
        "for authorid in top_authors_index[:,0]:\n",
        "  dico_top10[authorid] = DicoCleaned[authorid]"
      ],
      "execution_count": 20,
      "outputs": []
    },
    {
      "cell_type": "markdown",
      "metadata": {
        "id": "7JYhWxjRRmdI"
      },
      "source": [
        "Concatenate all abstracts in txt file to use library for word frequency directly on it after"
      ]
    },
    {
      "cell_type": "code",
      "metadata": {
        "id": "WrX_QbGAQvo7"
      },
      "source": [
        "all_abs = []\n",
        "for author in dico_top10:\n",
        "    all_abs.append(' '.join(dico_top10[author]))\n",
        "\n",
        "textfile = open(\"all_abs.txt\", \"w\")\n",
        "for element in all_abs:\n",
        "    textfile.write(element + \"\\n\")\n",
        "textfile.close()\n"
      ],
      "execution_count": 21,
      "outputs": []
    },
    {
      "cell_type": "markdown",
      "metadata": {
        "id": "slmbvKiVbEcj"
      },
      "source": [
        "Reprocess to take out most common english words (the,we ...) because we have missed the uppercases\n"
      ]
    },
    {
      "cell_type": "code",
      "metadata": {
        "colab": {
          "base_uri": "https://localhost:8080/"
        },
        "id": "9_VhR9pNcl32",
        "outputId": "458fb8a9-04e8-4d94-8da4-619bb7fd7909"
      },
      "source": [
        "!python -m nltk.downloader stopwords"
      ],
      "execution_count": 22,
      "outputs": [
        {
          "output_type": "stream",
          "name": "stdout",
          "text": [
            "/usr/lib/python3.7/runpy.py:125: RuntimeWarning: 'nltk.downloader' found in sys.modules after import of package 'nltk', but prior to execution of 'nltk.downloader'; this may result in unpredictable behaviour\n",
            "  warn(RuntimeWarning(msg))\n",
            "[nltk_data] Downloading package stopwords to /root/nltk_data...\n",
            "[nltk_data]   Unzipping corpora/stopwords.zip.\n"
          ]
        }
      ]
    },
    {
      "cell_type": "code",
      "metadata": {
        "id": "lf64X97-bPOx"
      },
      "source": [
        "from nltk.corpus import stopwords\n",
        "s = set(stopwords.words('english'))\n",
        "s_nb = {'0','1','2', '3', '4', '5', '6','7','8','9'}\n",
        "s = set.union(s, s_nb)\n",
        "txt = open('all_abs.txt').read().lower()\n",
        "filtertxt =  filter(lambda w: not w in s,txt.split())\n",
        "list_all_abs_cleaned = list(filtertxt)"
      ],
      "execution_count": 49,
      "outputs": []
    },
    {
      "cell_type": "markdown",
      "metadata": {
        "id": "ntVF7gq1ftwN"
      },
      "source": [
        "Just to verify it works on small txt file and it does"
      ]
    },
    {
      "cell_type": "code",
      "metadata": {
        "id": "2jm9dnD-fJlc"
      },
      "source": [
        "txt2 = open('teststr.txt').read().lower()\n",
        "filtertxt2 =  filter(lambda w: not w in s,txt2.split())"
      ],
      "execution_count": 37,
      "outputs": []
    },
    {
      "cell_type": "code",
      "metadata": {
        "colab": {
          "base_uri": "https://localhost:8080/"
        },
        "id": "O0X3DvzFcrVM",
        "outputId": "2f36589a-0791-4b45-d8e1-2d70515079e9"
      },
      "source": [
        "print(type(filtertxt2))\n",
        "print(list(filtertxt2))\n",
        "print(type(list(filtertxt2)))"
      ],
      "execution_count": 38,
      "outputs": [
        {
          "output_type": "stream",
          "name": "stdout",
          "text": [
            "<class 'filter'>\n",
            "['test', 'see', '47', 'works', 'lol', 'test', 'hello', 'machine']\n",
            "<class 'list'>\n"
          ]
        }
      ]
    },
    {
      "cell_type": "code",
      "metadata": {
        "id": "HCdiojY0f1jD"
      },
      "source": [
        "#delete file so that we can rewrite it without stopwords\n",
        "import os\n",
        "filePath = 'all_abs.txt';\n",
        "# As file at filePath is deleted now, so we should check if file exists or not not before deleting them\n",
        "if os.path.exists(filePath):\n",
        "    os.remove(filePath)\n",
        "\n",
        "textfile = open(\"all_abs.txt\", \"w\")\n",
        "for element in list_all_abs_cleaned:\n",
        "    textfile.write(element + \" \")\n",
        "textfile.close()"
      ],
      "execution_count": 50,
      "outputs": []
    },
    {
      "cell_type": "markdown",
      "metadata": {
        "id": "O1U3r4o3aj-v"
      },
      "source": [
        "Find the 10 most common words of top 10% authors"
      ]
    },
    {
      "cell_type": "code",
      "metadata": {
        "id": "Z73ljQsuUIvk"
      },
      "source": [
        "import re\n",
        "from collections import Counter\n",
        "words = re.findall(r'\\w+', open('all_abs.txt').read().lower())\n",
        "top10_words = Counter(words).most_common(10)"
      ],
      "execution_count": 51,
      "outputs": []
    },
    {
      "cell_type": "code",
      "metadata": {
        "colab": {
          "base_uri": "https://localhost:8080/"
        },
        "id": "L5b37mhuhZN3",
        "outputId": "c47cc934-3f42-4c19-99f5-cecab9f9c9a6"
      },
      "source": [
        "top10_words"
      ],
      "execution_count": 52,
      "outputs": [
        {
          "output_type": "execute_result",
          "data": {
            "text/plain": [
              "[('data', 70683),\n",
              " ('based', 38381),\n",
              " ('model', 37054),\n",
              " ('results', 33912),\n",
              " ('using', 31416),\n",
              " ('system', 26654),\n",
              " ('also', 25473),\n",
              " ('high', 24905),\n",
              " ('two', 24828),\n",
              " ('paper', 24756)]"
            ]
          },
          "metadata": {},
          "execution_count": 52
        }
      ]
    },
    {
      "cell_type": "markdown",
      "metadata": {
        "id": "baydyj5vzffh"
      },
      "source": [
        "100 most common words\n"
      ]
    },
    {
      "cell_type": "code",
      "metadata": {
        "id": "DpfLOrDlifFQ"
      },
      "source": [
        "top100_words = Counter(words).most_common(100)\n",
        "top100_words"
      ],
      "execution_count": null,
      "outputs": []
    },
    {
      "cell_type": "markdown",
      "metadata": {
        "id": "WMRl3tjtVYB3"
      },
      "source": [
        "Do the same for worst 10%"
      ]
    },
    {
      "cell_type": "code",
      "metadata": {
        "colab": {
          "base_uri": "https://localhost:8080/"
        },
        "id": "QA46m2_3VX06",
        "outputId": "be40ec7d-27f5-47eb-c4b6-ded011f88291"
      },
      "source": [
        "dico_worst10 = {}\n",
        "for authorid in worst_authors_index[:,0]:\n",
        "  dico_worst10[authorid] = DicoCleaned[authorid]\n",
        "\n",
        "all_abs_worst = []\n",
        "for author in dico_worst10:\n",
        "    all_abs_worst.append(' '.join(dico_worst10[author]))\n",
        "\n",
        "textfile = open(\"all_abs_worst.txt\", \"w\")\n",
        "for element in all_abs_worst:\n",
        "    textfile.write(element + \"\\n\")\n",
        "textfile.close()\n",
        "\n",
        "s = set(stopwords.words('english'))\n",
        "s_nb = {'0','1','2', '3', '4', '5', '6','7','8','9'}\n",
        "s = set.union(s, s_nb)\n",
        "txt = open('all_abs_worst.txt').read().lower()\n",
        "filtertxt =  filter(lambda w: not w in s,txt.split())\n",
        "list_all_abs_cleaned = list(filtertxt)\n",
        "\n",
        "filePath = 'all_abs_worst.txt';\n",
        "if os.path.exists(filePath):\n",
        "  os.remove(filePath)\n",
        "\n",
        "textfile = open(\"all_abs_worst.txt\", \"w\")\n",
        "for element in list_all_abs_cleaned:\n",
        "    textfile.write(element + \" \")\n",
        "textfile.close()\n",
        "\n",
        "words = re.findall(r'\\w+', open('all_abs_worst.txt').read().lower())\n",
        "worst10_words = Counter(words).most_common(10)\n",
        "worst10_words"
      ],
      "execution_count": 48,
      "outputs": [
        {
          "output_type": "execute_result",
          "data": {
            "text/plain": [
              "[('data', 27045),\n",
              " ('system', 21900),\n",
              " ('based', 19098),\n",
              " ('paper', 17200),\n",
              " ('using', 12523),\n",
              " ('information', 12080),\n",
              " ('model', 10812),\n",
              " ('systems', 10767),\n",
              " ('web', 10683),\n",
              " ('used', 9943)]"
            ]
          },
          "metadata": {},
          "execution_count": 48
        }
      ]
    }
  ]
}